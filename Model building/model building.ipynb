{
 "cells": [
  {
   "cell_type": "code",
   "execution_count": 3,
   "metadata": {
    "collapsed": true
   },
   "outputs": [],
   "source": [
    "import numpy as np\n",
    "import pandas as pd"
   ]
  },
  {
   "cell_type": "code",
   "execution_count": 4,
   "outputs": [
    {
     "data": {
      "text/plain": "   laptop_ID Company      Product   TypeName  Inches  \\\n0          1   Apple  MacBook Pro  Ultrabook    13.3   \n1          2   Apple  Macbook Air  Ultrabook    13.3   \n2          3      HP       250 G6   Notebook    15.6   \n3          4   Apple  MacBook Pro  Ultrabook    15.4   \n4          5   Apple  MacBook Pro  Ultrabook    13.3   \n\n                     ScreenResolution                         Cpu   Ram  \\\n0  IPS Panel Retina Display 2560x1600        Intel Core i5 2.3GHz   8GB   \n1                            1440x900        Intel Core i5 1.8GHz   8GB   \n2                   Full HD 1920x1080  Intel Core i5 7200U 2.5GHz   8GB   \n3  IPS Panel Retina Display 2880x1800        Intel Core i7 2.7GHz  16GB   \n4  IPS Panel Retina Display 2560x1600        Intel Core i5 3.1GHz   8GB   \n\n                            Gpu  OpSys  Weight  Price_euros  \n0  Intel Iris Plus Graphics 640  macOS  1.37kg      1339.69  \n1        Intel HD Graphics 6000  macOS  1.34kg       898.94  \n2         Intel HD Graphics 620  No OS  1.86kg       575.00  \n3            AMD Radeon Pro 455  macOS  1.83kg      2537.45  \n4  Intel Iris Plus Graphics 650  macOS  1.37kg      1803.60  ",
      "text/html": "<div>\n<style scoped>\n    .dataframe tbody tr th:only-of-type {\n        vertical-align: middle;\n    }\n\n    .dataframe tbody tr th {\n        vertical-align: top;\n    }\n\n    .dataframe thead th {\n        text-align: right;\n    }\n</style>\n<table border=\"1\" class=\"dataframe\">\n  <thead>\n    <tr style=\"text-align: right;\">\n      <th></th>\n      <th>laptop_ID</th>\n      <th>Company</th>\n      <th>Product</th>\n      <th>TypeName</th>\n      <th>Inches</th>\n      <th>ScreenResolution</th>\n      <th>Cpu</th>\n      <th>Ram</th>\n      <th>Gpu</th>\n      <th>OpSys</th>\n      <th>Weight</th>\n      <th>Price_euros</th>\n    </tr>\n  </thead>\n  <tbody>\n    <tr>\n      <th>0</th>\n      <td>1</td>\n      <td>Apple</td>\n      <td>MacBook Pro</td>\n      <td>Ultrabook</td>\n      <td>13.3</td>\n      <td>IPS Panel Retina Display 2560x1600</td>\n      <td>Intel Core i5 2.3GHz</td>\n      <td>8GB</td>\n      <td>Intel Iris Plus Graphics 640</td>\n      <td>macOS</td>\n      <td>1.37kg</td>\n      <td>1339.69</td>\n    </tr>\n    <tr>\n      <th>1</th>\n      <td>2</td>\n      <td>Apple</td>\n      <td>Macbook Air</td>\n      <td>Ultrabook</td>\n      <td>13.3</td>\n      <td>1440x900</td>\n      <td>Intel Core i5 1.8GHz</td>\n      <td>8GB</td>\n      <td>Intel HD Graphics 6000</td>\n      <td>macOS</td>\n      <td>1.34kg</td>\n      <td>898.94</td>\n    </tr>\n    <tr>\n      <th>2</th>\n      <td>3</td>\n      <td>HP</td>\n      <td>250 G6</td>\n      <td>Notebook</td>\n      <td>15.6</td>\n      <td>Full HD 1920x1080</td>\n      <td>Intel Core i5 7200U 2.5GHz</td>\n      <td>8GB</td>\n      <td>Intel HD Graphics 620</td>\n      <td>No OS</td>\n      <td>1.86kg</td>\n      <td>575.00</td>\n    </tr>\n    <tr>\n      <th>3</th>\n      <td>4</td>\n      <td>Apple</td>\n      <td>MacBook Pro</td>\n      <td>Ultrabook</td>\n      <td>15.4</td>\n      <td>IPS Panel Retina Display 2880x1800</td>\n      <td>Intel Core i7 2.7GHz</td>\n      <td>16GB</td>\n      <td>AMD Radeon Pro 455</td>\n      <td>macOS</td>\n      <td>1.83kg</td>\n      <td>2537.45</td>\n    </tr>\n    <tr>\n      <th>4</th>\n      <td>5</td>\n      <td>Apple</td>\n      <td>MacBook Pro</td>\n      <td>Ultrabook</td>\n      <td>13.3</td>\n      <td>IPS Panel Retina Display 2560x1600</td>\n      <td>Intel Core i5 3.1GHz</td>\n      <td>8GB</td>\n      <td>Intel Iris Plus Graphics 650</td>\n      <td>macOS</td>\n      <td>1.37kg</td>\n      <td>1803.60</td>\n    </tr>\n  </tbody>\n</table>\n</div>"
     },
     "execution_count": 4,
     "metadata": {},
     "output_type": "execute_result"
    }
   ],
   "source": [
    "dataset = pd.read_csv(\"laptop_price.csv\",encoding=\"latin-1\")\n",
    "dataset.head()"
   ],
   "metadata": {
    "collapsed": false
   }
  },
  {
   "cell_type": "code",
   "execution_count": 5,
   "outputs": [
    {
     "data": {
      "text/plain": "(1303, 12)"
     },
     "execution_count": 5,
     "metadata": {},
     "output_type": "execute_result"
    }
   ],
   "source": [
    "dataset.shape"
   ],
   "metadata": {
    "collapsed": false
   }
  },
  {
   "cell_type": "code",
   "execution_count": 7,
   "outputs": [
    {
     "data": {
      "text/plain": "laptop_ID           0\nCompany             0\nProduct             0\nTypeName            0\nInches              0\nScreenResolution    0\nCpu                 0\nRam                 0\nGpu                 0\nOpSys               0\nWeight              0\nPrice_euros         0\ndtype: int64"
     },
     "execution_count": 7,
     "metadata": {},
     "output_type": "execute_result"
    }
   ],
   "source": [
    "dataset.isnull().sum()"
   ],
   "metadata": {
    "collapsed": false
   }
  },
  {
   "cell_type": "code",
   "execution_count": null,
   "outputs": [],
   "source": [],
   "metadata": {
    "collapsed": false
   }
  }
 ],
 "metadata": {
  "kernelspec": {
   "display_name": "Python 3",
   "language": "python",
   "name": "python3"
  },
  "language_info": {
   "codemirror_mode": {
    "name": "ipython",
    "version": 2
   },
   "file_extension": ".py",
   "mimetype": "text/x-python",
   "name": "python",
   "nbconvert_exporter": "python",
   "pygments_lexer": "ipython2",
   "version": "2.7.6"
  }
 },
 "nbformat": 4,
 "nbformat_minor": 0
}
